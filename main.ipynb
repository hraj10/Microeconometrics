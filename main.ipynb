{
 "cells": [
  {
   "cell_type": "code",
   "execution_count": 1,
   "id": "7faf66ac-8548-4fbc-b274-5114cd61cdb6",
   "metadata": {},
   "outputs": [],
   "source": [
    "import numpy as np\n",
    "import pandas as pd\n",
    "import pyreadstat\n",
    "import statsmodels.api as sm\n",
    "from scipy.special import factorial\n",
    "from statsmodels.api import Poisson\n",
    "from scipy import stats\n",
    "from scipy.stats import norm\n",
    "from statsmodels.iolib.summary2 import summary_col\n",
    "import scipy as sc"
   ]
  },
  {
   "cell_type": "code",
   "execution_count": 2,
   "id": "1e19f1f6-8f83-4e49-9b83-b47d4c6ca22a",
   "metadata": {},
   "outputs": [],
   "source": [
    "dtafile = 'h163.dta'\n",
    "df, meta = pyreadstat.read_dta(dtafile)\n",
    "df_subset = df[['SEX','TOTEXP13','TTLP13X','INSCOV13','EDUYRDG','AGE31X','RACEV1X','REGION13','BMINDX53','ADSMOK42','HIBPDX','MARRY13X','RTHLTH31']].copy()\n",
    "               # 'MNHLTH31','PRIJA15','HIBPDX','EMPST31','TOTEXP15','OBDRV15', 'SEX']].copy()\n",
    "#df_subset['AGE15X_sq'] = np.power(df_subset['AGE15X'],2)\n",
    "df_use=df_subset[df_subset['SEX']==1].copy()"
   ]
  },
  {
   "cell_type": "code",
   "execution_count": 3,
   "id": "d0fc45df-5eae-4574-8399-977127f08ec9",
   "metadata": {},
   "outputs": [],
   "source": [
    "# Drop all the not interesting values\n",
    "df_use = df_use.drop(df_use[df_use['RTHLTH31'].isin([-9, -8, -7,-1])].index)\n",
    "df_use = df_use.drop(df_use[df_use['AGE31X']==-1].index)\n",
    "df_use = df_use.drop(df_use[df_use['AGE31X']<18].index)\n",
    "df_use = df_use.drop(df_use[df_use['TOTEXP13']==0].index)\n",
    "\n",
    "df_use = df_use.drop(df_use[df_use['TTLP13X']<0].index)\n",
    "# Data preparation\n",
    "df_use.rename(columns = {'TOTEXP13' : 'Health Expenditure'}, inplace = True)\n",
    "df_use.rename(columns = {'TTLP13X' : 'Income'}, inplace = True)\n",
    "df_use.rename(columns = {'AGE31X' : 'Age'}, inplace = True)\n",
    "df_use['Insured']=np.where(df_use['INSCOV13'] < 3,1,0)# insured (publicly or privately)\n",
    "\n",
    "df_use=df_use.drop(df_use[(df_use['EDUYRDG']==-1) | (df_use['EDUYRDG']==-7) | \n",
    "                          (df_use['EDUYRDG']==10) | (df_use['EDUYRDG']==-8) | (df_use['EDUYRDG']==-9)].index)\n",
    "df_use['University<']=np.where(df_use['EDUYRDG']>7, 1, 0) #BSc & MSc\n",
    "df_use['High School<']=np.where((df_use['EDUYRDG']<8) & (df_use['EDUYRDG']>3), 1, 0) #at least high school\n",
    "df_use['Race White']=np.where(df_use['RACEV1X']==1, 1, 0)\n",
    "df_use['Northeast'] = np.where(df_use['REGION13']==1,1,0)\n",
    "df_use['Midwest'] = np.where(df_use['REGION13']==2,1,0)\n",
    "df_use['South'] = np.where(df_use['REGION13']==3,1,0)\n",
    "df_use['West'] = np.where(df_use['REGION13']==4,1,0)\n",
    "df_use['Obese'] = np.where(df_use['BMINDX53']>=30,1,0) # niet voor 17 of jonger (jonger dan 17 krijgt dus automatisch geen obese)\n",
    "df_use['Smoker'] = np.where(df_use['ADSMOK42']==1,1,0)\n",
    "df_use['High Blood Pressure'] = np.where(df_use['HIBPDX'] == 1, 1, 0) #niet voor 17 of jonger (jonger dan 17 krijgt dus automatisch geen High Blood Pressure)\n",
    "df_use['Married'] = np.where(df_use['MARRY13X']==1,1,0) #1 for married\n",
    "df_use.drop(['EDUYRDG', 'INSCOV13','SEX','REGION13','RACEV1X','BMINDX53','ADSMOK42','HIBPDX'],inplace=True, axis = 1)\n",
    "df_use = df_use.join(pd.get_dummies(df_use['RTHLTH31'].replace({})).rename({1: 'Excellent Health', 2:'Very good Health',3:'Good Health',4:'Fair Health ',5:'Poor Health'}, axis=1))\n"
   ]
  },
  {
   "cell_type": "code",
   "execution_count": 4,
   "id": "bbc2c7cb",
   "metadata": {},
   "outputs": [],
   "source": [
    "# Re-scaling some variables\n",
    "df_use['Income'] = np.log(df_use['Income']+1)\n",
    "df_use['Health Expenditure'] = np.log(df_use['Health Expenditure'])"
   ]
  },
  {
   "cell_type": "code",
   "execution_count": 5,
   "id": "695dafb0",
   "metadata": {},
   "outputs": [],
   "source": [
    "# Defining variables for probit estimation\n",
    "S = df_use['Insured'].to_numpy()\n",
    "dep_first_stage = ['Income', 'University<','High School<','Smoker','Age','Race White','Married','Northeast','Midwest','South','Very good Health','Good Health','Fair Health ','Poor Health']\n",
    "Z = df_use[dep_first_stage].to_numpy()\n",
    "Z = np.concatenate([Z, np.ones((S.shape[0], 1))], axis=1)\n",
    "init_gamma = np.array(np.repeat(0, Z.shape[1]))"
   ]
  },
  {
   "cell_type": "code",
   "execution_count": 6,
   "id": "ef629043-a6b2-44d1-acd8-a1bc7d3310f6",
   "metadata": {},
   "outputs": [],
   "source": [
    "# Defining control variables for final OLS estimation\n",
    "y = df_use['Health Expenditure'].to_numpy()\n",
    "dep_second_stage = ['Income', 'University<','High School<','Obese','Smoker','High Blood Pressure','Age','Race White','Married','Northeast','Midwest','South','Very good Health','Good Health','Fair Health ','Poor Health']\n",
    "X = df_use[dep_second_stage].to_numpy()\n",
    "X = np.concatenate([X, np.ones((y.shape[0], 1))], axis=1) # Depending on implementing constant"
   ]
  },
  {
   "cell_type": "code",
   "execution_count": 7,
   "id": "0e099ce0",
   "metadata": {},
   "outputs": [
    {
     "data": {
      "image/png": "[encoded data removed]",
      "text/plain": [
       "<Figure size 432x288 with 1 Axes>"
      ]
     },
     "metadata": {
      "needs_background": "light"
     },
     "output_type": "display_data"
    }
   ],
   "source": [
    "import matplotlib.pyplot as plt\n",
    "\n",
    "plt.hist(y, bins = 200)\n",
    "plt.show()"
   ]
  },
  {
   "cell_type": "code",
   "execution_count": 8,
   "id": "ce799e23",
   "metadata": {
    "scrolled": false
   },
   "outputs": [
    {
     "name": "stdout",
     "output_type": "stream",
     "text": [
      "\\begin{tabular}{lrrrrrrrr}\n",
      "\\toprule\n",
      "{} &   count &       mean &        std &        min &        25\\% &        50\\% &        75\\% &        max \\\\\n",
      "\\midrule\n",
      "Health Expenditure &  8242.0 &   7.149230 &   1.807825 &   0.693147 &   5.857933 &   7.181592 &   8.422168 &  13.151281 \\\\\n",
      "Income             &  8242.0 &   9.542599 &   2.723702 &   0.000000 &   9.406935 &  10.241744 &  10.868587 &  12.743262 \\\\\n",
      "Age                &  8242.0 &  47.505581 &  17.424506 &  18.000000 &  33.000000 &  48.000000 &  60.000000 &  85.000000 \\\\\n",
      "\\bottomrule\n",
      "\\end{tabular}\n",
      "\n"
     ]
    }
   ],
   "source": [
    "print(df_use[['Health Expenditure','Income','Age']].describe().T.to_latex())"
   ]
  },
  {
   "cell_type": "code",
   "execution_count": 9,
   "id": "dbd6daca",
   "metadata": {
    "scrolled": true
   },
   "outputs": [
    {
     "name": "stdout",
     "output_type": "stream",
     "text": [
      "\\begin{tabular}{lrrrrrrrr}\n",
      "\\toprule\n",
      "{} &   count &      mean &       std &  min &  25\\% &  50\\% &  75\\% &  max \\\\\n",
      "\\midrule\n",
      "Insured             &  8242.0 &  0.855982 &  0.351130 &  0.0 &  1.0 &  1.0 &  1.0 &  1.0 \\\\\n",
      "University<         &  8242.0 &  0.258068 &  0.437598 &  0.0 &  0.0 &  0.0 &  1.0 &  1.0 \\\\\n",
      "High School<        &  8242.0 &  0.479374 &  0.499605 &  0.0 &  0.0 &  0.0 &  1.0 &  1.0 \\\\\n",
      "Race White          &  8242.0 &  0.698738 &  0.458834 &  0.0 &  0.0 &  1.0 &  1.0 &  1.0 \\\\\n",
      "Northeast           &  8242.0 &  0.168163 &  0.374034 &  0.0 &  0.0 &  0.0 &  0.0 &  1.0 \\\\\n",
      "Midwest             &  8242.0 &  0.194249 &  0.395645 &  0.0 &  0.0 &  0.0 &  0.0 &  1.0 \\\\\n",
      "South               &  8242.0 &  0.349794 &  0.476934 &  0.0 &  0.0 &  0.0 &  1.0 &  1.0 \\\\\n",
      "West                &  8242.0 &  0.282941 &  0.450455 &  0.0 &  0.0 &  0.0 &  1.0 &  1.0 \\\\\n",
      "Obese               &  8242.0 &  0.312060 &  0.463362 &  0.0 &  0.0 &  0.0 &  1.0 &  1.0 \\\\\n",
      "Smoker              &  8242.0 &  0.165494 &  0.371648 &  0.0 &  0.0 &  0.0 &  0.0 &  1.0 \\\\\n",
      "High Blood Pressure &  8242.0 &  0.433997 &  0.495654 &  0.0 &  0.0 &  0.0 &  1.0 &  1.0 \\\\\n",
      "Married             &  8242.0 &  0.565275 &  0.495751 &  0.0 &  0.0 &  1.0 &  1.0 &  1.0 \\\\\n",
      "Excellent Health    &  8242.0 &  0.240476 &  0.427398 &  0.0 &  0.0 &  0.0 &  0.0 &  1.0 \\\\\n",
      "Very good Health    &  8242.0 &  0.309634 &  0.462371 &  0.0 &  0.0 &  0.0 &  1.0 &  1.0 \\\\\n",
      "Good Health         &  8242.0 &  0.285732 &  0.451790 &  0.0 &  0.0 &  0.0 &  1.0 &  1.0 \\\\\n",
      "Fair Health         &  8242.0 &  0.123999 &  0.329600 &  0.0 &  0.0 &  0.0 &  0.0 &  1.0 \\\\\n",
      "Poor Health         &  8242.0 &  0.040160 &  0.196347 &  0.0 &  0.0 &  0.0 &  0.0 &  1.0 \\\\\n",
      "\\bottomrule\n",
      "\\end{tabular}\n",
      "\n"
     ]
    }
   ],
   "source": [
    "print(df_use[['Insured','University<','High School<','Race White','Northeast','Midwest','South','West','Obese','Smoker','High Blood Pressure','Married','Excellent Health','Very good Health','Good Health','Fair Health ','Poor Health']].describe().T.to_latex())"
   ]
  },
  {
   "cell_type": "code",
   "execution_count": 10,
   "id": "b1fe87af-846e-4bc1-90bf-603a137bd87f",
   "metadata": {},
   "outputs": [],
   "source": [
    "def Probit_Objective (vBeta0, vY, mX):\n",
    "    \n",
    "    iSizeN, iSizeK = np.shape(mX)\n",
    "    vY_tilde = (2*vY-1).reshape(iSizeN,1)\n",
    "    \n",
    "    mXy_tilde = np.multiply(mX,vY_tilde)\n",
    "    \n",
    "    vFitted_tilde = mXy_tilde@(np.asmatrix(vBeta0).reshape(iSizeK,1)) \n",
    "\n",
    "    vObj = np.log(norm.cdf(vFitted_tilde))\n",
    "    dLogL = -np.mean(vObj)\n",
    "    \n",
    "    return dLogL"
   ]
  },
  {
   "cell_type": "code",
   "execution_count": 11,
   "id": "035d80da-0ece-416b-b114-07e1c5217c63",
   "metadata": {},
   "outputs": [],
   "source": [
    "def Probit_hessian(vBeta0,vY,mX):\n",
    "    N, K = np.shape(mX)\n",
    "    beta = vBeta0\n",
    "    \n",
    "    hessian=0\n",
    "    for i in range(N):\n",
    "        Phi_ij = -((vY[i]*1/(norm.cdf(mX[i,:]@beta))*norm.pdf(mX[i,:]@beta)*mX[i,:]@beta\n",
    "                   +vY[i]*1/(norm.cdf(mX[i,:]@beta))**2*norm.pdf(mX[i,:]@beta)**2)*np.outer(mX[i,:],mX[i,:])\n",
    "                   +((1-vY[i])*1/(1-norm.cdf(mX[i,:]@beta))**2*norm.pdf(mX[i,:]@beta)**2\n",
    "                   -(1-vY[i])*1/(1-norm.cdf(mX[i,:]@beta))*norm.pdf(mX[i,:]@beta)*mX[i,:]@beta)*np.outer(mX[i,:],mX[i,:])\n",
    "                  )\n",
    "        hessian = hessian + Phi_ij\n",
    "    return hessian"
   ]
  },
  {
   "cell_type": "code",
   "execution_count": 12,
   "id": "14de442b-eed1-4d1b-bc9b-bc541962978b",
   "metadata": {},
   "outputs": [],
   "source": [
    "def Probit_score(vBeta0,vY,mX):\n",
    "    N, K = np.shape(mX)\n",
    "    beta = vBeta0\n",
    "    \n",
    "    score=0\n",
    "    for i in range(N):\n",
    "        Phi_ij = vY[i]*1/(norm.cdf(mX[i,:]@beta))*norm.pdf(mX[i,:]@beta)*mX[i,:]\n",
    "        Phi_ij_1 = (1-vY[i])*1/(1-norm.cdf(mX[i,:]@beta))*norm.pdf(mX[i,:]@beta)*mX[i,:]\n",
    "        Zln = Phi_ij - Phi_ij_1\n",
    "        score = score + Zln\n",
    "           # break\n",
    "            # else:\n",
    "            #     Zln = 0\n",
    "    return score"
   ]
  },
  {
   "cell_type": "code",
   "execution_count": 13,
   "id": "343daf71-28ba-4c0c-8b32-ebd1f658a74c",
   "metadata": {},
   "outputs": [],
   "source": [
    "def newton_raphson(X,y,beta,itermax,tol):\n",
    "    b=beta\n",
    "    iSize, iSizeK = np.shape(X)\n",
    "    for i in range(itermax):\n",
    "        logl=Probit_Objective (b, y, X)\n",
    "        score=np.asmatrix(Probit_score(b, y, X)).reshape(iSizeK,1)\n",
    "        hessian=Probit_hessian(b, y, X)\n",
    "        hessian_inv=np.linalg.inv(hessian)\n",
    "        a=np.array((hessian_inv @ score).transpose())[0]\n",
    "        b=b-a\n",
    "        up_logl=Probit_Objective(b, y, X)\n",
    "        if (abs(logl - up_logl)<tol):\n",
    "            print('convergence reached')\n",
    "            print('The log-likelihood is: {}'.format(-up_logl*len(y)))\n",
    "            break\n",
    "    return b"
   ]
  },
  {
   "cell_type": "code",
   "execution_count": 14,
   "id": "e82a3614-fe8f-4cae-999d-7c62f9d4d283",
   "metadata": {},
   "outputs": [],
   "source": [
    "def probit_se(b,y,X):\n",
    "    var=np.linalg.inv(Probit_hessian(b, y, X))\n",
    "    return np.sqrt(-np.diag(var))\n",
    "\n",
    "def probit_p_value(b,se,df):\n",
    "    t=b/se\n",
    "    p=2*(1-stats.t.cdf(abs(t),df=df))\n",
    "    return t,p "
   ]
  },
  {
   "cell_type": "code",
   "execution_count": 15,
   "id": "1a33682c-a290-4d41-a089-631e742aeb60",
   "metadata": {},
   "outputs": [
    {
     "name": "stdout",
     "output_type": "stream",
     "text": [
      "convergence reached\n",
      "The log-likelihood is: -3050.4480903673402\n"
     ]
    }
   ],
   "source": [
    "gamma = newton_raphson(Z,S,init_gamma,100,0.01)\n",
    "gamma_SE = probit_se(gamma,S,Z)\n",
    "gamma_t, gamma_pval = probit_p_value(gamma, gamma_SE, Z.shape[0]-1)"
   ]
  },
  {
   "cell_type": "code",
   "execution_count": 16,
   "id": "184a06e4-98c3-4060-9128-1142c9463254",
   "metadata": {},
   "outputs": [
    {
     "name": "stdout",
     "output_type": "stream",
     "text": [
      "\\begin{tabular}{lrrrr}\n",
      "\\toprule\n",
      "{} &  Coefficients &     SE &  t-stat &  p-value \\\\\n",
      "Variable         &               &        &         &          \\\\\n",
      "\\midrule\n",
      "Income           &        0.0323 &  0.006 &   5.239 &    0.000 \\\\\n",
      "University<      &        0.7200 &  0.059 &  12.191 &    0.000 \\\\\n",
      "High School<     &        0.2650 &  0.041 &   6.474 &    0.000 \\\\\n",
      "Smoker           &       -0.1659 &  0.046 &  -3.629 &    0.000 \\\\\n",
      "Age              &        0.0154 &  0.001 &  12.776 &    0.000 \\\\\n",
      "Race White       &       -0.1792 &  0.041 &  -4.393 &    0.000 \\\\\n",
      "Married          &        0.1579 &  0.039 &   4.062 &    0.000 \\\\\n",
      "Northeast        &        0.2341 &  0.058 &   4.001 &    0.000 \\\\\n",
      "Midwest          &        0.1547 &  0.055 &   2.828 &    0.005 \\\\\n",
      "South            &       -0.0766 &  0.045 &  -1.716 &    0.086 \\\\\n",
      "Very good Health &        0.0720 &  0.051 &   1.423 &    0.155 \\\\\n",
      "Good Health      &       -0.0785 &  0.051 &  -1.544 &    0.123 \\\\\n",
      "Fair Health      &       -0.1431 &  0.064 &  -2.251 &    0.024 \\\\\n",
      "Poor Health      &        0.0892 &  0.101 &   0.886 &    0.376 \\\\\n",
      "Constant         &       -0.1314 &  0.085 &  -1.542 &    0.123 \\\\\n",
      "\\bottomrule\n",
      "\\end{tabular}\n",
      "\n"
     ]
    }
   ],
   "source": [
    "dep_first_stage_names = np.append(dep_first_stage,'Constant')\n",
    "Table=pd.DataFrame({\n",
    "    \"Variable\"  : dep_first_stage_names,\n",
    "    \"Coefficients\": gamma,\n",
    "    \"SE\": gamma_SE,\n",
    "    \"t-stat\": gamma_t,\n",
    "    \"p-value\": gamma_pval\n",
    "    #\"Marginal Effect\":marg\n",
    "}).round({\"Coefficients\": 4, \"SE\": 3,\"t-stat\":3, \"p-value\": 3})#\"Marginal Effect\":3})\n",
    "Table.index = Table[\"Variable\"]\n",
    "del Table[\"Variable\"]\n",
    "print(Table.to_latex())"
   ]
  },
  {
   "cell_type": "code",
   "execution_count": 17,
   "id": "34ab3036",
   "metadata": {},
   "outputs": [],
   "source": [
    "# Calculating the indices for all observations with S = 1 and S = 0\n",
    "index_1 = [index for index,value in enumerate(S) if value == 1]\n",
    "index_1 = np.array(index_1)\n",
    "\n",
    "index_2 = [index for index,value in enumerate(S) if value == 0]\n",
    "index_2 = np.array(index_2)"
   ]
  },
  {
   "cell_type": "code",
   "execution_count": 18,
   "id": "15beed43",
   "metadata": {},
   "outputs": [
    {
     "data": {
      "text/plain": [
       "array([0.39977202, 0.59793574, 0.79609947, 0.99426319])"
      ]
     },
     "execution_count": 18,
     "metadata": {},
     "output_type": "execute_result"
    }
   ],
   "source": [
    "# Calculating the corresponding threshold accordingly through the number of thresholds\n",
    "Z_gamma = Z @ gamma\n",
    "\n",
    "g1 = np.zeros(Z_gamma.shape[0])\n",
    "g2 = np.zeros(Z_gamma.shape[0])\n",
    "\n",
    "Z_gamma_1 = Z_gamma[index_1]\n",
    "Z_gamma_2 = Z_gamma[index_2]\n",
    "\n",
    "g1[index_1] = Z_gamma_1\n",
    "g2[index_2] = Z_gamma_2\n",
    "\n",
    "g1_trans = norm.cdf(g1)\n",
    "g2_trans = norm.cdf(g2)\n",
    "\n",
    "min_threshold = np.min(norm.cdf(Z_gamma))\n",
    "max_threshold = np.max(norm.cdf(Z_gamma))\n",
    "# nr_thresholds result in the # number of dummies\n",
    "nr_thresholds = 3\n",
    "thresholds = np.zeros(nr_thresholds+1)\n",
    "for i in range(nr_thresholds+1):\n",
    "    thresholds[i]=min_threshold+i*(max_threshold-min_threshold)/nr_thresholds\n",
    "thresholds"
   ]
  },
  {
   "cell_type": "code",
   "execution_count": 19,
   "id": "ad3a377b",
   "metadata": {},
   "outputs": [],
   "source": [
    "# Creating the dummies due to threshold values for g1\n",
    "dummy2 = np.zeros((len(g1_trans),1))\n",
    "\n",
    "for i in range(nr_thresholds):\n",
    "    dummy  = np.where((g1_trans < thresholds[i+1]) & (g1_trans > thresholds[i]), 1, 0).reshape((len(g1_trans),1))\n",
    "    dummy2 = np.concatenate([dummy2, dummy], axis=1)\n",
    "\n",
    "dummies_1 = np.delete(dummy2, 0, 1)\n",
    "dummies_g1 = np.delete(dummies_1, -1, 1)\n",
    "\n",
    "# Creating the dummies due to threshold values for g2\n",
    "dummy2 = np.zeros((len(g2_trans),1))\n",
    "\n",
    "for i in range(nr_thresholds):\n",
    "    dummy  = np.where((g2_trans < thresholds[i+1]) & (g2_trans > thresholds[i]), 1, 0).reshape((len(g2_trans),1))\n",
    "    dummy2 = np.concatenate([dummy2, dummy], axis=1)\n",
    "\n",
    "dummies_2 = np.delete(dummy2, 0, 1)\n",
    "dummies_g2 = np.delete(dummies_2, -1, 1)\n"
   ]
  },
  {
   "cell_type": "code",
   "execution_count": 20,
   "id": "492ac146",
   "metadata": {},
   "outputs": [
    {
     "data": {
      "text/plain": [
       "(8242, 22)"
      ]
     },
     "execution_count": 20,
     "metadata": {},
     "output_type": "execute_result"
    }
   ],
   "source": [
    "# Making one large matrix for OLS estimation\n",
    "X_S   = np.concatenate([X, S.reshape(len(S),1)], axis=1)\n",
    "X_S_Z = np.concatenate([X_S, dummies_g1, dummies_g2\n",
    "                       ], axis=1)\n",
    "\n",
    "X_S_Z.shape"
   ]
  },
  {
   "cell_type": "code",
   "execution_count": 21,
   "id": "37ede019",
   "metadata": {},
   "outputs": [],
   "source": [
    "# Do the final estimation\n",
    "beta_OLS = np.linalg.inv(X_S_Z.T @ X_S_Z) @ X_S_Z.T @ y"
   ]
  },
  {
   "cell_type": "code",
   "execution_count": 25,
   "id": "c88966a1",
   "metadata": {},
   "outputs": [],
   "source": [
    "n, p = X_S_Z.shape\n",
    "BOOTREP = 100\n",
    "    \n",
    "# Initilize bootstrap array\n",
    "beta_OLS_B = np.zeros((BOOTREP,p))\n",
    "    \n",
    "# Balanced bootstrap    \n",
    "np.random.seed(1)\n",
    "index_B = np.random.permutation(np.repeat(np.arange(n),BOOTREP)).reshape((BOOTREP,n))\n",
    "for b in range(BOOTREP):\n",
    "    index = index_B[b,:]  # select the indices\n",
    "    yB = np.copy(y[index])\n",
    "    SB = np.copy(S[index])\n",
    "    XB = np.copy(X[index,:])\n",
    "    ZB = np.copy(Z[index,:])\n",
    "    # Probit estimation\n",
    "    init_gamma = np.zeros(Z.shape[1])\n",
    "    gammaB = newton_raphson(ZB, SB, init_gamma, 100, 0.001)\n",
    "    #gammaB = ML_builtin(init_gamma, SB, ZB)\n",
    "    \n",
    "    gammaB = np.array(gammaB).reshape(gammaB.shape[0])\n",
    "    \n",
    "    Z_gamma_B = ZB @ gammaB\n",
    "        \n",
    "    index_1 = [index for index,value in enumerate(SB) if value == 1]\n",
    "    index_1 = np.array(index_1)\n",
    "\n",
    "    index_2 = [index for index,value in enumerate(SB) if value == 0]\n",
    "    index_2 = np.array(index_2)\n",
    "    \n",
    "    g1_B = np.zeros(Z_gamma_B.shape[0])\n",
    "    g2_B = np.zeros(Z_gamma_B.shape[0])\n",
    "\n",
    "    Z_gamma_1_B = Z_gamma_B[index_1]\n",
    "    Z_gamma_2_B = Z_gamma_B[index_2]\n",
    "\n",
    "    g1_B[index_1] = Z_gamma_1_B\n",
    "    g2_B[index_2] = Z_gamma_2_B\n",
    "\n",
    "    g1_trans_B = norm.cdf(g1_B)\n",
    "    g2_trans_B = norm.cdf(g2_B)\n",
    "\n",
    "    min_threshold = np.min(norm.cdf(Z_gamma_B))\n",
    "    max_threshold = np.max(norm.cdf(Z_gamma_B))\n",
    "    nr_thresholds = 3\n",
    "    thresholds_B = np.zeros(nr_thresholds+1)\n",
    "    for i in range(nr_thresholds+1):\n",
    "        thresholds_B[i]=min_threshold+i*(max_threshold-min_threshold)/nr_thresholds\n",
    "    thresholds_B\n",
    "\n",
    "    # Creating the dummies due to threshold values for g1\n",
    "    dummy1_B = np.zeros((len(g1_trans_B),1))\n",
    "\n",
    "    for i in range(nr_thresholds):\n",
    "        dummy  = np.where((g1_trans_B < thresholds_B[i+1]) & (g1_trans_B > thresholds_B[i]), 1, 0).reshape((len(g1_trans_B),1))\n",
    "        dummy1_B = np.concatenate([dummy1_B, dummy], axis=1)\n",
    "\n",
    "    dummies_1_B = np.delete(dummy1_B, 0, 1)\n",
    "    dummies_g1_B = np.delete(dummies_1_B, -1, 1)\n",
    "\n",
    "    # Creating the dummies due to threshold values for g2\n",
    "    dummy2_B = np.zeros((len(g2_trans_B),1))\n",
    "\n",
    "    for i in range(nr_thresholds):\n",
    "        dummy  = np.where((g2_trans_B < thresholds_B[i+1]) & (g2_trans_B > thresholds_B[i]), 1, 0).reshape((len(g2_trans_B),1))\n",
    "        dummy2_B = np.concatenate([dummy2_B, dummy], axis=1)\n",
    "\n",
    "    dummies_2_B = np.delete(dummy2_B, 0, 1)\n",
    "    dummies_g2_B = np.delete(dummies_2_B, -1, 1)\n",
    "\n",
    "    # Making one large matrix\n",
    "    X_S   = np.concatenate([XB, SB.reshape(len(SB),1)], axis=1)\n",
    "    X_S_Z_B = np.concatenate([X_S, dummies_g1_B, dummies_g2_B\n",
    "                             ], axis=1)\n",
    "\n",
    "    # OLS estimation\n",
    "    beta_OLS_B[b,:] = np.linalg.inv(X_S_Z_B.T @ X_S_Z_B) @ X_S_Z_B.T @ yB"
   ]
  },
  {
   "cell_type": "code",
   "execution_count": 26,
   "id": "b84e9ff1",
   "metadata": {},
   "outputs": [],
   "source": [
    "# Calculating the SE for the estimates due to bootstrapping\n",
    "beta_OLS_SE_B = np.std(beta_OLS_B, axis=0)\n",
    "\n",
    "#    q_bB_OLS   = np.quantile(bB_OLS,[0.05,0.95],axis=0)\n",
    "\n",
    "# Calculating the t-values and p-values accordingly\n",
    "beta_t_OLS, beta_pval_OLS = probit_p_value(beta_OLS, beta_OLS_SE_B, X_S_Z.shape[0]-1)"
   ]
  },
  {
   "cell_type": "code",
   "execution_count": 27,
   "id": "a42e47bd",
   "metadata": {},
   "outputs": [
    {
     "name": "stdout",
     "output_type": "stream",
     "text": [
      "\\begin{tabular}{lrrrr}\n",
      "\\toprule\n",
      "{} &  Coefficients &     SE &  t-stat &  p-value \\\\\n",
      "Variable            &               &        &         &          \\\\\n",
      "\\midrule\n",
      "Income              &       -0.0047 &  0.011 &  -0.422 &    0.673 \\\\\n",
      "University<         &        0.4187 &  0.062 &   6.731 &    0.000 \\\\\n",
      "High School<        &        0.2607 &  0.048 &   5.403 &    0.000 \\\\\n",
      "Obese               &        0.0388 &  0.038 &   1.018 &    0.309 \\\\\n",
      "Smoker              &       -0.0587 &  0.069 &  -0.854 &    0.393 \\\\\n",
      "High Blood Pressure &        0.4268 &  0.044 &   9.772 &    0.000 \\\\\n",
      "Age                 &        0.0325 &  0.002 &  18.868 &    0.000 \\\\\n",
      "Race White          &        0.0471 &  0.046 &   1.034 &    0.301 \\\\\n",
      "Married             &       -0.1882 &  0.040 &  -4.677 &    0.000 \\\\\n",
      "Northeast           &        0.1473 &  0.057 &   2.599 &    0.009 \\\\\n",
      "Midwest             &        0.2083 &  0.054 &   3.825 &    0.000 \\\\\n",
      "South               &       -0.0368 &  0.047 &  -0.780 &    0.436 \\\\\n",
      "Very good Health    &        0.1383 &  0.049 &   2.803 &    0.005 \\\\\n",
      "Good Health         &        0.4683 &  0.048 &   9.805 &    0.000 \\\\\n",
      "Fair Health         &        0.8595 &  0.073 &  11.699 &    0.000 \\\\\n",
      "Poor Health         &        1.7180 &  0.104 &  16.566 &    0.000 \\\\\n",
      "Constant            &        3.3035 &  0.358 &   9.235 &    0.000 \\\\\n",
      "Insurance           &        0.8306 &  0.363 &   2.291 &    0.022 \\\\\n",
      "Dummy1              &        0.5879 &  0.267 &   2.204 &    0.028 \\\\\n",
      "Dummy2              &        0.1797 &  0.098 &   1.830 &    0.067 \\\\\n",
      "Dummy3              &        0.8513 &  0.331 &   2.571 &    0.010 \\\\\n",
      "Dummy4              &        0.4167 &  0.132 &   3.158 &    0.002 \\\\\n",
      "\\bottomrule\n",
      "\\end{tabular}\n",
      "\n"
     ]
    }
   ],
   "source": [
    "dep_second_stage_names = np.append(dep_second_stage,['Constant','Insurance', 'Dummy1','Dummy2','Dummy3','Dummy4'#,'Dummy5','Dummy6'\n",
    "                                                    ])\n",
    "Table=pd.DataFrame({\n",
    "    \"Variable\"  : dep_second_stage_names,\n",
    "    \"Coefficients\": beta_OLS,\n",
    "    \"SE\": beta_OLS_SE_B,\n",
    "    \"t-stat\": beta_t_OLS,\n",
    "    \"p-value\": beta_pval_OLS\n",
    "    #\"Marginal Effect\":marg\n",
    "}).round({\"Coefficients\": 4, \"SE\": 3,\"t-stat\":3, \"p-value\": 3})#\"Marginal Effect\":3})\n",
    "Table.index = Table[\"Variable\"]\n",
    "del Table[\"Variable\"]\n",
    "print(Table.to_latex())"
   ]
  },
  {
   "cell_type": "code",
   "execution_count": null,
   "id": "0d91d53b",
   "metadata": {},
   "outputs": [],
   "source": [
    "\\begin{tabular}{lrrrr}\n",
    "\\toprule\n",
    "{} &  Coefficients &     SE &  t-stat &  p-value \\\\\n",
    "Variable            &               &        &         &          \\\\\n",
    "\\midrule\n",
    "Income              &       -0.0108 &  0.009 &  -1.238 &    0.216 \\\\\n",
    "University<         &        0.3667 &  0.057 &   6.482 &    0.000 \\\\\n",
    "High School<        &        0.2208 &  0.042 &   5.198 &    0.000 \\\\\n",
    "Obese               &        0.0361 &  0.038 &   0.944 &    0.345 \\\\\n",
    "Smoker              &       -0.0051 &  0.052 &  -0.099 &    0.921 \\\\\n",
    "High Blood Pressure &        0.4181 &  0.044 &   9.454 &    0.000 \\\\\n",
    "Age                 &        0.0306 &  0.001 &  22.890 &    0.000 \\\\\n",
    "Race White          &        0.0929 &  0.041 &   2.244 &    0.025 \\\\\n",
    "Married             &       -0.2233 &  0.037 &  -6.008 &    0.000 \\\\\n",
    "Very good Health    &        0.1315 &  0.042 &   3.108 &    0.002 \\\\\n",
    "Good Health         &        0.4773 &  0.046 &  10.274 &    0.000 \\\\\n",
    "Fair Health         &        0.8829 &  0.068 &  12.942 &    0.000 \\\\\n",
    "Poor Health         &        1.6842 &  0.102 &  16.508 &    0.000 \\\\\n",
    "Constant            &        3.9833 &  0.221 &  17.985 &    0.000 \\\\\n",
    "Insurance           &        0.9994 &  0.148 &   6.740 &    0.000 \\\\\n",
    "Dummy1              &        0.2456 &  0.127 &   1.926 &    0.054 \\\\\n",
    "Dummy2              &        0.2591 &  0.178 &   1.456 &    0.146 \\\\\n",
    "\\bottomrule\n",
    "\\end{tabular}"
   ]
  },
  {
   "cell_type": "code",
   "execution_count": null,
   "id": "3a0324cd",
   "metadata": {},
   "outputs": [],
   "source": [
    "\\begin{tabular}{lrrrr}\n",
    "\\toprule\n",
    "{} &  Coefficients &     SE &  t-stat &  p-value \\\\\n",
    "Variable            &               &        &         &          \\\\\n",
    "\\midrule\n",
    "Income              &       -0.0059 &  0.011 &  -0.540 &    0.589 \\\\\n",
    "University<         &        0.4012 &  0.062 &   6.473 &    0.000 \\\\\n",
    "High School<        &        0.2409 &  0.049 &   4.965 &    0.000 \\\\\n",
    "Obese               &        0.0378 &  0.038 &   0.996 &    0.319 \\\\\n",
    "Smoker              &       -0.0521 &  0.066 &  -0.786 &    0.432 \\\\\n",
    "High Blood Pressure &        0.4283 &  0.044 &   9.815 &    0.000 \\\\\n",
    "Age                 &        0.0318 &  0.002 &  14.297 &    0.000 \\\\\n",
    "Race White          &        0.0597 &  0.046 &   1.311 &    0.190 \\\\\n",
    "Married             &       -0.1976 &  0.040 &  -4.916 &    0.000 \\\\\n",
    "Northeast           &        0.1389 &  0.056 &   2.494 &    0.013 \\\\\n",
    "Midwest             &        0.2058 &  0.056 &   3.707 &    0.000 \\\\\n",
    "South               &       -0.0333 &  0.046 &  -0.727 &    0.467 \\\\\n",
    "Very good Health    &        0.1377 &  0.049 &   2.792 &    0.005 \\\\\n",
    "Good Health         &        0.4672 &  0.048 &   9.796 &    0.000 \\\\\n",
    "Fair Health         &        0.8708 &  0.074 &  11.839 &    0.000 \\\\\n",
    "Poor Health         &        1.7092 &  0.105 &  16.350 &    0.000 \\\\\n",
    "Constant            &        3.4059 &  0.436 &   7.816 &    0.000 \\\\\n",
    "Insurance           &        0.9896 &  0.503 &   1.968 &    0.049 \\\\\n",
    "Dummy1              &        0.6332 &  0.341 &   1.858 &    0.063 \\\\\n",
    "Dummy2              &        0.2891 &  0.182 &   1.589 &    0.112 \\\\\n",
    "Dummy3              &        0.0893 &  0.099 &   0.905 &    0.365 \\\\\n",
    "Dummy4              &        0.6464 &  0.482 &   1.342 &    0.180 \\\\\n",
    "Dummy5              &        0.5596 &  0.219 &   2.560 &    0.010 \\\\\n",
    "Dummy6              &       -0.0284 &  0.159 &  -0.179 &    0.858 \\\\\n",
    "\\bottomrule\n",
    "\\end{tabular}"
   ]
  },
  {
   "cell_type": "markdown",
   "id": "7417f560-ca9b-41b6-902a-4f36c19290d7",
   "metadata": {},
   "source": [
    "## (Using Builtin functions)"
   ]
  },
  {
   "cell_type": "code",
   "execution_count": 23,
   "id": "11ff7ff4-ba19-483f-a658-7417be7bf85f",
   "metadata": {},
   "outputs": [],
   "source": [
    "def ML_builtin (vBeta0, vY, mX):\n",
    "    iSize, iSizeK = np.shape(mX)\n",
    "    # without Hessian\n",
    "   # res = sc.optimize.minimize(Probit_Objective, np.squeeze(vBeta0),jac=Probit_jacobian, args=(vY, mX), method = 'BFGS')\n",
    "    # with hession\n",
    "    res = sc.optimize.minimize(Probit_Objective, np.squeeze(vBeta0),jac=False,args=(vY, mX), method ='Nelder-Mead') #'Nelder-Mead')'Newton-CG')\n",
    "    vBeta_new = np.asmatrix(res.x).reshape(iSizeK,1)\n",
    "    return vBeta_new"
   ]
  }
 ],
 "metadata": {
  "kernelspec": {
   "display_name": "Python 3",
   "language": "python",
   "name": "python3"
  },
  "language_info": {
   "codemirror_mode": {
    "name": "ipython",
    "version": 3
   },
   "file_extension": ".py",
   "mimetype": "text/x-python",
   "name": "python",
   "nbconvert_exporter": "python",
   "pygments_lexer": "ipython3",
   "version": "3.8.8"
  }
 },
 "nbformat": 4,
 "nbformat_minor": 5
}
